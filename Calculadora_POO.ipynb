{
  "nbformat": 4,
  "nbformat_minor": 0,
  "metadata": {
    "colab": {
      "provenance": []
    },
    "kernelspec": {
      "name": "python3",
      "display_name": "Python 3"
    },
    "language_info": {
      "name": "python"
    }
  },
  "cells": [
    {
      "cell_type": "code",
      "execution_count": null,
      "metadata": {
        "colab": {
          "base_uri": "https://localhost:8080/"
        },
        "id": "Wrz_rjYFiqyj",
        "outputId": "20669835-24a9-4e60-bd9a-a981522a8830"
      },
      "outputs": [
        {
          "output_type": "stream",
          "name": "stdout",
          "text": [
            "Ingresá los números para la calculadora\n",
            "Ingresá un número10\n",
            "Ingresá otro número2\n",
            "La suma de los valores es 12\n",
            "La resta de los valores es 8\n",
            "La multiplicación de los valores es 20\n",
            "La división de los valores es 5\n",
            "Good\n"
          ]
        }
      ],
      "source": [
        "class Calculadora:\n",
        "  def __init__(self,valor_1,valor_2):\n",
        "    self.valor_1 = valor_1\n",
        "    self.valor_2 = valor_2\n",
        "\n",
        "  def suma(self):\n",
        "      return self.valor_1 + self.valor_2\n",
        "\n",
        "  def resta(self):\n",
        "      return self.valor_1 - self.valor_2\n",
        "\n",
        "  def multiplicacion(self):\n",
        "      return self.valor_1 * self.valor_2\n",
        "\n",
        "  def division(self):\n",
        "      if self.valor_2 != 0:\n",
        "        return self.valor_1 / self.valor_2\n",
        "      else:\n",
        "        return \"El resultado de esta división es indefinido, no se puede dividir por cero\"\n",
        "\n",
        "  #Hasta acá definimos las operaciones de la calculadora pero todavía no tenemos ni los inputs\n",
        "\n",
        "print(\"Ingresá los números para la calculadora\")\n",
        "\n",
        "valor_1 = int(input(\"Ingresá un número\"))\n",
        "valor_2 = int(input(\"Ingresá otro número\"))\n",
        "\n",
        "calc = Calculadora(valor_1, valor_2)\n",
        "\n",
        "print(\"La suma de los valores es\",calc.suma())\n",
        "print(\"La resta de los valores es\",calc.resta())\n",
        "print(\"La multiplicación de los valores es\",calc.multiplicacion())\n",
        "print(\"La división de los valores es\",int(calc.division()))\n",
        "\n",
        "print(\"Good\")\n",
        "\n",
        "\n"
      ]
    }
  ]
}