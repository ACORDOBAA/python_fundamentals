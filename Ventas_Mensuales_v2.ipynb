{
  "nbformat": 4,
  "nbformat_minor": 0,
  "metadata": {
    "colab": {
      "provenance": [],
      "authorship_tag": "ABX9TyMcrFoPlhJiOp4YQIRCqPij",
      "include_colab_link": true
    },
    "kernelspec": {
      "name": "python3",
      "display_name": "Python 3"
    },
    "language_info": {
      "name": "python"
    }
  },
  "cells": [
    {
      "cell_type": "markdown",
      "metadata": {
        "id": "view-in-github",
        "colab_type": "text"
      },
      "source": [
        "<a href=\"https://colab.research.google.com/github/ACORDOBAA/python_fundamentals/blob/branch_6/Ventas_Mensuales_v2.ipynb\" target=\"_parent\"><img src=\"https://colab.research.google.com/assets/colab-badge.svg\" alt=\"Open In Colab\"/></a>"
      ]
    },
    {
      "cell_type": "code",
      "execution_count": 4,
      "metadata": {
        "id": "VUpiJDRLc4Pz",
        "outputId": "9536c69d-5a78-4dd5-c9a3-ff3f6f93d61a",
        "colab": {
          "base_uri": "https://localhost:8080/"
        }
      },
      "outputs": [
        {
          "output_type": "stream",
          "name": "stdout",
          "text": [
            "[[1000 1001 1002 1003]\n",
            " [1004 1005 1006 1007]\n",
            " [1008 1009 1010 1011]\n",
            " [1012 1013 1014 1015]\n",
            " [1016 1017 1018 1019]\n",
            " [1020 1021 1022 1023]\n",
            " [1024 1025 1026 1027]\n",
            " [1028 1029 1030 1031]\n",
            " [1032 1033 1034 1035]\n",
            " [1036 1037 1038 1039]\n",
            " [1040 1041 1042 1043]\n",
            " [1044 1045 1046 1047]]\n",
            " \n",
            "Los totales de cada producto, para los 12 meses de ventas, son los siguientes\n",
            " \n",
            "[12264 12276 12288 12300]\n",
            " \n",
            "Las ventas totales de cada mes, para los 4 productos, son las siguientes\n",
            " \n",
            "[4006 4022 4038 4054 4070 4086 4102 4118 4134 4150 4166 4182]\n"
          ]
        }
      ],
      "source": [
        "# Importar la librería\n",
        "\n",
        "import numpy as np\n",
        "\n",
        "import random\n",
        "\n",
        "# Creación de arreglo\n",
        "\n",
        "#matriz_ventas = np.array([\"Pelotas de fútbol\",\"Camisetas\", \"Botines\", \"Gorras\"])\n",
        "\n",
        "#print(matriz_ventas)\n",
        "\n",
        "# Modificación de un elemento\n",
        "\n",
        "#matriz_ventas[2]=3*3\n",
        "\n",
        "# Otra forma de imprimir la matriz, directamente el nombre de la variable solito\n",
        "#matriz_2 = np.array([1, True, 9], [4, False, 4], [2, True, 4])\n",
        "#matriz_2.shape\n",
        "\n",
        "#ventas_mensuales_random = np.reshape(np.array(randint(10, 51)), (12,4))\n",
        "\n",
        "#print(ventas_mensuales_random)\n",
        "\n",
        "ventas_mensuales = np.reshape(np.array(range(1000,1048)), (12,4))\n",
        "\n",
        "print(ventas_mensuales)\n",
        "\n",
        "total_ventas_producto = np.sum(ventas_mensuales, axis=0)\n",
        "\n",
        "print(\" \")\n",
        "#Escribir axis=0 implica que me va a aplicar totales desde arriba hacia abajo (cuatro columnas), si le pongo axis=1 me suma horizontalmente (12 filas, 12 resultados).\n",
        "\n",
        "print(\"Los totales de cada producto, para los 12 meses de ventas, son los siguientes\")\n",
        "\n",
        "print(\" \")\n",
        "\n",
        "print(total_ventas_producto)\n",
        "\n",
        "print(\" \")\n",
        "\n",
        "print(\"Las ventas totales de cada mes, para los 4 productos, son las siguientes\")\n",
        "\n",
        "print(\" \")\n",
        "\n",
        "total_ventas_mes = np.sum(ventas_mensuales, axis=1)\n",
        "\n",
        "print(total_ventas_mes)\n"
      ]
    }
  ]
}