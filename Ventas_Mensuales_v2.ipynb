{
  "nbformat": 4,
  "nbformat_minor": 0,
  "metadata": {
    "colab": {
      "provenance": [],
      "authorship_tag": "ABX9TyNXCCfDPsH7l7xYhbz5U4O6",
      "include_colab_link": true
    },
    "kernelspec": {
      "name": "python3",
      "display_name": "Python 3"
    },
    "language_info": {
      "name": "python"
    }
  },
  "cells": [
    {
      "cell_type": "markdown",
      "metadata": {
        "id": "view-in-github",
        "colab_type": "text"
      },
      "source": [
        "<a href=\"https://colab.research.google.com/github/ACORDOBAA/python_fundamentals/blob/branch_6/Ventas_Mensuales_v2.ipynb\" target=\"_parent\"><img src=\"https://colab.research.google.com/assets/colab-badge.svg\" alt=\"Open In Colab\"/></a>"
      ]
    },
    {
      "cell_type": "code",
      "execution_count": null,
      "metadata": {
        "id": "VUpiJDRLc4Pz"
      },
      "outputs": [],
      "source": [
        "# Importar la librería\n",
        "\n",
        "import numpy as np\n",
        "\n",
        "import random\n",
        "\n",
        "# Creación de arreglo\n",
        "\n",
        "#matriz_ventas = np.array([\"Pelotas de fútbol\",\"Camisetas\", \"Botines\", \"Gorras\"])\n",
        "\n",
        "#print(matriz_ventas)\n",
        "\n",
        "# Modificación de un elemento\n",
        "\n",
        "#matriz_ventas[2]=3*3\n",
        "\n",
        "# Otra forma de imprimir la matriz, directamente el nombre de la variable solito\n",
        "#matriz_2 = np.array([1, True, 9], [4, False, 4], [2, True, 4])\n",
        "#matriz_2.shape\n",
        "\n",
        "#a = np.reshape(np.array(randint(10, 51)), (5,5))\n",
        "\n",
        "#a\n",
        "\n",
        "ventas_mensuales = np.reshape(np.array(range(1000,1048)), (12,4))\n",
        "\n",
        "print(ventas_mensuales)\n",
        "\n",
        "total_ventas_producto = np.sum(ventas_mensuales, axis=0)\n",
        "\n",
        "print(\" \")\n",
        "#Escribir axis=0 implica que me va a aplicar totales desde arriba hacia abajo (cuatro columnas), si le pongo axis=1 me suma horizontalmente (12 filas, 12 resultados).\n",
        "\n",
        "print(\"Los totales de cada producto, para los 12 meses de ventas, son l0s siguientes\")\n",
        "\n",
        "print(\" \")\n",
        "\n",
        "print(total_ventas_producto)\n",
        "\n",
        "print(\" \")\n",
        "\n",
        "print(\"Las ventas totales de cada mes, para los 4 productos, son las siguientes\")\n",
        "\n",
        "print(\" \")\n",
        "\n",
        "total_ventas_mes = np.sum(ventas_mensuales, axis=1)\n",
        "\n",
        "print(total_ventas_mes)\n"
      ]
    }
  ]
}