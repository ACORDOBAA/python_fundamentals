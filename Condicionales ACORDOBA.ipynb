{
  "cells": [
    {
      "cell_type": "code",
      "source": [
        "# Parte 1\r\n",
        "\r\n",
        "dato_edad = 24 \r\n",
        "\r\n",
        "edad_mia = dato_edad/2\r\n",
        "\r\n",
        "print(edad_mia)\r\n",
        "\r\n",
        "# Parte 2\r\n",
        "\r\n",
        "mi_edad = 6\r\n",
        "edad_hermana = (mi_edad+15)\r\n",
        "edad_hermana *= 3\r\n",
        "print(edad_hermana)\r\n",
        "\r\n",
        "# Parte 3\r\n",
        "\r\n",
        "if edad_hermana < edad_mía:\r\n",
        "    print(\"Mi hermana es menor que yo\")\r\n",
        "else:\r\n",
        "    print(\"Mi hermana es mayor que yo\")\r\n"
      ],
      "outputs": [
        {
          "output_type": "display_data",
          "data": {
            "application/vnd.livy.statement-meta+json": {
              "spark_pool": "SPKSmallCAPlab1",
              "session_id": "100",
              "statement_id": 18,
              "state": "finished",
              "livy_statement_state": "available",
              "queued_time": "2023-07-14T14:12:54.9018654Z",
              "session_start_time": null,
              "execution_start_time": "2023-07-14T14:12:55.1022501Z",
              "execution_finish_time": "2023-07-14T14:12:55.3930002Z",
              "spark_jobs": null,
              "parent_msg_id": "6bb00a93-c8f3-4901-99a4-8c664c5868e1"
            },
            "text/plain": "StatementMeta(SPKSmallCAPlab1, 100, 18, Finished, Available)"
          },
          "metadata": {}
        },
        {
          "output_type": "stream",
          "name": "stdout",
          "text": [
            "12.0\n63\nMi hermana es mayor que yo\n"
          ]
        }
      ],
      "execution_count": 17,
      "metadata": {}
    }
  ],
  "metadata": {
    "language_info": {
      "name": "python"
    },
    "kernelspec": {
      "name": "synapse_pyspark",
      "language": "Python",
      "display_name": "Synapse PySpark"
    },
    "kernel_info": {
      "name": "synapse_pyspark"
    },
    "save_output": true,
    "synapse_widget": {
      "version": "0.1",
      "state": {}
    }
  },
  "nbformat": 4,
  "nbformat_minor": 2
}