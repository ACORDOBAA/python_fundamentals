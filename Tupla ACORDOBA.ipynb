{
  "cells": [
    {
      "cell_type": "code",
      "source": [
        "##Boolean=False\r\n",
        "##Mi_tupla=(\"Boca Juniors\",7,8.3,Boolean)\r\n",
        "##print(Mi_tupla)\r\n",
        "##Mi_list=list(Mi_tupla)\r\n",
        "##print(Mi_list)\r\n",
        "\r\n",
        "Diccionario_equipos = {\"Boca Juniors\":\"La Bombonera\",\"River Plate\":\"El Monumental\",\"San Lorenzo\":\"El Nuevo Gasómetro\"}\r\n",
        "Estadios_equipos = Diccionario_equipos[\"Boca Juniors\"]\r\n",
        "print(Estadios_equipos)\r\n",
        "\r\n",
        "Equipos=(\"Boca Juniors\",\"River Plate\",\"San Lorenzo\",\"Independiente\",\"Racing Club\",\"Velez Sarsfield\")\r\n",
        "Lista_equipos = list(Equipos)\r\n",
        "print(Lista_equipos)\r\n",
        "\r\n",
        "Mi_diccionario = {}\r\n",
        "\r\n",
        "for i in range(len(Lista_equipos)):\r\n",
        "    Mi_diccionario[i+1] = Lista_equipos[i]\r\n",
        "\r\n",
        "print(Mi_diccionario)\r\n",
        "\r\n",
        "print(Lista_equipos[3])\r\n"
      ],
      "outputs": [
        {
          "output_type": "display_data",
          "data": {
            "application/vnd.livy.statement-meta+json": {
              "spark_pool": "SPKSmallCAPlab1",
              "session_id": "95",
              "statement_id": 22,
              "state": "finished",
              "livy_statement_state": "available",
              "queued_time": "2023-07-13T18:11:12.5366166Z",
              "session_start_time": null,
              "execution_start_time": "2023-07-13T18:11:12.7062131Z",
              "execution_finish_time": "2023-07-13T18:11:12.8683647Z",
              "spark_jobs": null,
              "parent_msg_id": "ec9dda94-c4b0-4dc9-8c3b-787e70e538e8"
            },
            "text/plain": "StatementMeta(SPKSmallCAPlab1, 95, 22, Finished, Available)"
          },
          "metadata": {}
        },
        {
          "output_type": "stream",
          "name": "stdout",
          "text": [
            "La Bombonera\n['Boca Juniors', 'River Plate', 'San Lorenzo', 'Independiente', 'Racing Club', 'Velez Sarsfield']\n{1: 'Boca Juniors', 2: 'River Plate', 3: 'San Lorenzo', 4: 'Independiente', 5: 'Racing Club', 6: 'Velez Sarsfield'}\nIndependiente\n"
          ]
        }
      ],
      "execution_count": 21,
      "metadata": {}
    }
  ],
  "metadata": {
    "kernelspec": {
      "name": "synapse_pyspark",
      "language": "Python",
      "display_name": "Synapse PySpark"
    },
    "language_info": {
      "name": "python"
    },
    "kernel_info": {
      "name": "synapse_pyspark"
    },
    "save_output": true,
    "synapse_widget": {
      "version": "0.1",
      "state": {}
    }
  },
  "nbformat": 4,
  "nbformat_minor": 2
}