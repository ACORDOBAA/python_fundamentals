{
  "cells": [
    {
      "cell_type": "code",
      "source": [
        "# Importar la librería\r\n",
        "\r\n",
        "import numpy as np\r\n",
        "\r\n",
        "matriz_3x3 = np.arange(9).reshape(3,3)\r\n",
        "\r\n",
        "print(matriz_3x3)\r\n",
        "\r\n",
        "print(\" \")\r\n",
        "print(\"Separador de matrices\")\r\n",
        "print(\" \")\r\n",
        "\r\n",
        "matriz_identidad = np.identity(6)\r\n",
        "\r\n",
        "print(matriz_identidad)\r\n"
      ],
      "outputs": [
        {
          "output_type": "display_data",
          "data": {
            "application/vnd.livy.statement-meta+json": {
              "spark_pool": "SPKSmallCAPlab1",
              "session_id": "104",
              "statement_id": 6,
              "state": "finished",
              "livy_statement_state": "available",
              "queued_time": "2023-07-17T18:54:01.6593563Z",
              "session_start_time": null,
              "execution_start_time": "2023-07-17T18:54:01.82543Z",
              "execution_finish_time": "2023-07-17T18:54:02.0146307Z",
              "spark_jobs": null,
              "parent_msg_id": "d87f3808-c3b4-4ac6-b8da-6a10dfc189f7"
            },
            "text/plain": "StatementMeta(SPKSmallCAPlab1, 104, 6, Finished, Available)"
          },
          "metadata": {}
        },
        {
          "output_type": "stream",
          "name": "stdout",
          "text": [
            "[[0 1 2]\n [3 4 5]\n [6 7 8]]\n \nSeparador de matrices\n \n[[1. 0. 0. 0. 0. 0.]\n [0. 1. 0. 0. 0. 0.]\n [0. 0. 1. 0. 0. 0.]\n [0. 0. 0. 1. 0. 0.]\n [0. 0. 0. 0. 1. 0.]\n [0. 0. 0. 0. 0. 1.]]\n"
          ]
        }
      ],
      "execution_count": 5,
      "metadata": {}
    },
    {
      "cell_type": "code",
      "source": [],
      "outputs": [],
      "execution_count": null,
      "metadata": {
        "jupyter": {
          "source_hidden": false,
          "outputs_hidden": false
        },
        "nteract": {
          "transient": {
            "deleting": false
          }
        }
      }
    }
  ],
  "metadata": {
    "language_info": {
      "name": "python"
    },
    "kernelspec": {
      "name": "synapse_pyspark",
      "language": "Python",
      "display_name": "Synapse PySpark"
    },
    "kernel_info": {
      "name": "synapse_pyspark"
    },
    "save_output": true,
    "synapse_widget": {
      "version": "0.1",
      "state": {}
    }
  },
  "nbformat": 4,
  "nbformat_minor": 2
}