{
  "nbformat": 4,
  "nbformat_minor": 0,
  "metadata": {
    "colab": {
      "provenance": [],
      "authorship_tag": "ABX9TyNiRjxgZ3dWbcmRswWBxkdU",
      "include_colab_link": true
    },
    "kernelspec": {
      "name": "python3",
      "display_name": "Python 3"
    },
    "language_info": {
      "name": "python"
    }
  },
  "cells": [
    {
      "cell_type": "markdown",
      "metadata": {
        "id": "view-in-github",
        "colab_type": "text"
      },
      "source": [
        "<a href=\"https://colab.research.google.com/github/ACORDOBAA/python_fundamentals/blob/branch_11/Salarios_Panda.ipynb\" target=\"_parent\"><img src=\"https://colab.research.google.com/assets/colab-badge.svg\" alt=\"Open In Colab\"/></a>"
      ]
    },
    {
      "cell_type": "code",
      "execution_count": null,
      "metadata": {
        "colab": {
          "base_uri": "https://localhost:8080/"
        },
        "id": "SgJ0h5u5FUb9",
        "outputId": "e97bda75-a6e9-48ad-e145-731d029e7faf"
      },
      "outputs": [
        {
          "output_type": "stream",
          "name": "stdout",
          "text": [
            "   Nombre  Edad  Salario Genero\n",
            "0   Ringo    45    12000      M\n",
            "1    John    34    14000      M\n",
            "2    Paul    42    13000      M\n",
            "3  Geroge    38    11000      M\n",
            "4    Yoko    47    10000      F\n",
            "\n",
            "El rango salarial es 4000\n",
            "\n",
            "La diferencia de edad entre el más antiguo y el más joven es de 13 años\n",
            "\n",
            "El salario mediano es 12000\n",
            "\n",
            "El promedio salarial es 12000\n",
            "\n",
            "El desvío estándar salarial es 1581\n"
          ]
        }
      ],
      "source": [
        "import pandas as pd\n",
        "\n",
        "salarios={\n",
        "    \"Nombre\":[\"Ringo\",\"John\",\"Paul\",\"Geroge\",\"Yoko\"],\n",
        "    \"Edad\":[45,34,42,38,47],\n",
        "    \"Salario\":[12000,14000,13000,11000,10000],\n",
        "    \"Genero\":[\"M\",\"M\",\"M\",\"M\",\"F\"]\n",
        "}\n",
        "\n",
        "df = pd.DataFrame(salarios)\n",
        "\n",
        "print(df.head())\n",
        "\n",
        "col_salario = df[\"Salario\"]\n",
        "\n",
        "col_edad = df[\"Edad\"]\n",
        "\n",
        "rango_salarial = col_salario.max()- col_salario.min()\n",
        "\n",
        "rango_edad = col_edad.max() - col_edad.min()\n",
        "\n",
        "salario_mediano = int(col_salario.median())\n",
        "\n",
        "salario_medio = int(col_salario.mean())\n",
        "\n",
        "desvio_estandar_salarial = int(col_salario.std())\n",
        "\n",
        "print(\"\")\n",
        "\n",
        "print(f\"El rango salarial es {rango_salarial}\")\n",
        "\n",
        "print(\"\")\n",
        "\n",
        "print(f\"La diferencia de edad entre el más antiguo y el más joven es de {rango_edad} años\")\n",
        "\n",
        "print(\"\")\n",
        "\n",
        "print(f\"El salario mediano es {salario_mediano}\")\n",
        "\n",
        "print(\"\")\n",
        "\n",
        "print(f\"El promedio salarial es {salario_medio}\")\n",
        "\n",
        "print(\"\")\n",
        "\n",
        "print(f\"El desvío estándar salarial es {desvio_estandar_salarial}\")\n",
        "\n",
        "\n"
      ]
    }
  ]
}