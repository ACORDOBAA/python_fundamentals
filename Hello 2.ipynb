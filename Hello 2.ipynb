{
  "cells": [
    {
      "cell_type": "code",
      "source": [
        "print(\"Mi nombre es Agustin Cordoba\")\r\n",
        "print(\"El éxito consiste en ir de fracaso en fracaso sin perder el entusiasmo\")\r\n",
        "\r\n",
        "a = (\"Hola Mundo\")\r\n",
        "print(a)\r\n",
        "\r\n",
        "# El texto es STRING como en DAX, por lo que tiene que ir entre comillas. Sino puede ir sin \r\n",
        "\r\n",
        "edad = 25\r\n",
        "print(edad)"
      ],
      "outputs": [
        {
          "output_type": "display_data",
          "data": {
            "application/vnd.livy.statement-meta+json": {
              "spark_pool": "SPK00",
              "session_id": "0",
              "statement_id": 3,
              "state": "finished",
              "livy_statement_state": "available",
              "queued_time": "2023-07-13T16:51:32.1136356Z",
              "session_start_time": null,
              "execution_start_time": "2023-07-13T16:51:37.4477987Z",
              "execution_finish_time": "2023-07-13T16:51:37.6260579Z",
              "spark_jobs": null,
              "parent_msg_id": "b6b4c15a-feee-4c94-92bb-096669f1fa99"
            },
            "text/plain": "StatementMeta(SPK00, 0, 3, Finished, Available)"
          },
          "metadata": {}
        },
        {
          "output_type": "stream",
          "name": "stdout",
          "text": [
            "Mi nombre es Agustin Cordoba\nEl éxito consiste en ir de fracaso en fracaso sin perder el entusiasmo\nHola Mundo\n25\n"
          ]
        }
      ],
      "execution_count": 3,
      "metadata": {}
    }
  ],
  "metadata": {
    "language_info": {
      "name": "python"
    },
    "kernelspec": {
      "name": "synapse_pyspark",
      "language": "Python",
      "display_name": "Synapse PySpark"
    },
    "kernel_info": {
      "name": "synapse_pyspark"
    },
    "save_output": true,
    "synapse_widget": {
      "version": "0.1",
      "state": {}
    }
  },
  "nbformat": 4,
  "nbformat_minor": 2
}