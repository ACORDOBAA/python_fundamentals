{
  "nbformat": 4,
  "nbformat_minor": 0,
  "metadata": {
    "colab": {
      "provenance": [],
      "authorship_tag": "ABX9TyPjRn5ri7dw4iaf23CHy8a7",
      "include_colab_link": true
    },
    "kernelspec": {
      "name": "python3",
      "display_name": "Python 3"
    },
    "language_info": {
      "name": "python"
    }
  },
  "cells": [
    {
      "cell_type": "markdown",
      "metadata": {
        "id": "view-in-github",
        "colab_type": "text"
      },
      "source": [
        "<a href=\"https://colab.research.google.com/github/ACORDOBAA/python_fundamentals/blob/branch_7/Manipulaci%C3%B3n_de_datos.ipynb\" target=\"_parent\"><img src=\"https://colab.research.google.com/assets/colab-badge.svg\" alt=\"Open In Colab\"/></a>"
      ]
    },
    {
      "cell_type": "code",
      "execution_count": null,
      "metadata": {
        "colab": {
          "base_uri": "https://localhost:8080/"
        },
        "id": "Qr9Yux5TVmmA",
        "outputId": "2b5ea92e-e018-4e5a-f841-2bbb9d056e4f"
      },
      "outputs": [
        {
          "name": "stdout",
          "output_type": "stream",
          "text": [
            "Ingrese monto de la compra0\n",
            "No realizó compra alguna, finalizaremos su carrito\n",
            "Ingrese la cantidad de minutos trabajados480\n",
            "Total a pagar 305.0\n",
            "Ingrese la cantidad de minutos trabajados65\n",
            "Total a pagar 26.25\n",
            "Ingrese la cantidad de minutos trabajados480\n",
            "Total a pagar 305.0\n",
            "Ingrese la cantidad de minutos trabajados481\n",
            "Total a pagar 225\n",
            "Ingrese la cantidad de minutos trabajados0\n"
          ]
        }
      ],
      "source": [
        "# Caso 1 - Monto de Compras\n",
        "\n",
        "import math\n",
        "\n",
        "total = 0\n",
        "while True:\n",
        "    monto = float(input(\"Ingrese monto de la compra\"))\n",
        "\n",
        "    if monto == 0:\n",
        "        print(\"No realizó compra alguna, finalizaremos su carrito\")\n",
        "        break;\n",
        "\n",
        "    if monto < 0:\n",
        "        print(\"El valor es incorrecto, no puede ser menor que cero\")\n",
        "        continue;\n",
        "\n",
        "    total += monto\n",
        "\n",
        "    if total > 10000:\n",
        "        total *= 0.9\n",
        "\n",
        "    print(\"Total a pagar\", total)\n",
        "\n",
        "# Caso 2 - Tiempo trabajado\n",
        "\n",
        "#Sueldo Base = $25 por hora\n",
        "#Jornada de 8 horas = 480 minutos\n",
        "\n",
        "minutos = 0\n",
        "costo = 0\n",
        "\n",
        "while True:\n",
        "  minutos = int(input(\"Ingrese la cantidad de minutos trabajados\"))\n",
        "\n",
        "  if minutos == 0:\n",
        "      print(\"No trabajó\")\n",
        "      break;\n",
        "\n",
        "  if minutos < 0:\n",
        "      print(\"Numero no válido\")\n",
        "      continue;\n",
        "\n",
        "  if minutos > 480:\n",
        "      costo = 225\n",
        "\n",
        "#En la parte de >60 minutos, no corresponde pagarle el proporcional de la segunda hora en base a los $25 de tarifa base? O sea, pagarle 25*número de horas trabajadas, no 25 + 15*minutos extra trabajados. Sino hasta 480 minutos es un precio total ($130) y cuando pasas a 481 es $225.\n",
        "#Es solo una interpretación, debajo del código que escribí les dejo muteado el código original según las instrucciones de la actividad.\n",
        "\n",
        "  elif minutos > 60:\n",
        "      costo = (25*(math.trunc((minutos/60)))) + (15*((minutos - 60)/60))\n",
        "\n",
        "#elif minutos > 60:\n",
        "      #costo = 25 + (15*((minutos - 60)/60))\n",
        "\n",
        "\n",
        "  elif minutos > 0:\n",
        "      costo = 25\n",
        "\n",
        "  else:\n",
        "      costo = 0\n",
        "\n",
        "  print(\"Total a pagar\", costo)\n",
        "\n",
        "\n"
      ]
    },
    {
      "cell_type": "code",
      "source": [],
      "metadata": {
        "id": "mxowZnLyVn4e"
      },
      "execution_count": null,
      "outputs": []
    },
    {
      "cell_type": "code",
      "source": [],
      "metadata": {
        "id": "cLXD0NM7VoP5"
      },
      "execution_count": null,
      "outputs": []
    },
    {
      "cell_type": "code",
      "source": [],
      "metadata": {
        "id": "zYEgYexDVoSZ"
      },
      "execution_count": null,
      "outputs": []
    },
    {
      "cell_type": "code",
      "source": [],
      "metadata": {
        "id": "bLmEMagyVoUW"
      },
      "execution_count": null,
      "outputs": []
    },
    {
      "cell_type": "code",
      "source": [],
      "metadata": {
        "id": "004Nlf4PVoXs"
      },
      "execution_count": null,
      "outputs": []
    }
  ]
}