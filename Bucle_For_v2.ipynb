{
  "nbformat": 4,
  "nbformat_minor": 0,
  "metadata": {
    "colab": {
      "provenance": [],
      "authorship_tag": "ABX9TyOCJ9fFM7lZ7WF3oU0KkTRx",
      "include_colab_link": true
    },
    "kernelspec": {
      "name": "python3",
      "display_name": "Python 3"
    },
    "language_info": {
      "name": "python"
    }
  },
  "cells": [
    {
      "cell_type": "markdown",
      "metadata": {
        "id": "view-in-github",
        "colab_type": "text"
      },
      "source": [
        "<a href=\"https://colab.research.google.com/github/ACORDOBAA/python_fundamentals/blob/branch_9/Bucle_For_v2.ipynb\" target=\"_parent\"><img src=\"https://colab.research.google.com/assets/colab-badge.svg\" alt=\"Open In Colab\"/></a>"
      ]
    },
    {
      "cell_type": "code",
      "execution_count": 11,
      "metadata": {
        "colab": {
          "base_uri": "https://localhost:8080/"
        },
        "id": "hFDCM2EEzueJ",
        "outputId": "68ca95e8-ee22-40f0-d57d-0d018986f95a"
      },
      "outputs": [
        {
          "output_type": "stream",
          "name": "stdout",
          "text": [
            "Nombre:Julian\n",
            "Número: 332\n",
            "Nombre:Gonzalo\n",
            "Número: 484\n",
            "Nombre:Ezequiel\n",
            "Número: 929\n",
            "Nombre:Celeste\n",
            "Número: 695\n",
            "Nombre:Clara\n",
            "Número: 787\n",
            "\n",
            "El valor más chico de todos es: 332\n",
            "El valor más grande de todos es: 929\n"
          ]
        }
      ],
      "source": [
        "import random\n",
        "\n",
        "#r1 = random.randint(0, 1000)\n",
        "#r2 = random.randint(0, 1000)\n",
        "#r3 = random.randint(0, 1000)\n",
        "#r4 = random.randint(0, 1000)\n",
        "#r5 = random.randint(0, 1000)\n",
        "#r6 = random.randint(0, 1000)\n",
        "\n",
        "diccionario_base = {\"Julian\":random.randint(1,1000), \"Gonzalo\":random.randint(1,1000),\"Ezequiel\":random.randint(1,1000), \"Celeste\":random.randint(1,1000), \"Clara\":random.randint(1,1000)}\n",
        "\n",
        "for i in diccionario_base:\n",
        "  nombre = i\n",
        "  print(f\"Nombre:{nombre}\")\n",
        "  numero = diccionario_base[i]\n",
        "  print(f\"Número: {numero}\")\n",
        "\n",
        "valores = diccionario_base.values()\n",
        "\n",
        "maximo = max(valores)\n",
        "minimo = min(valores)\n",
        "print(\"\")\n",
        "print(f\"El valor más chico de todos es: {minimo}\")\n",
        "print(f\"El valor más grande de todos es: {maximo}\")\n",
        "\n",
        "\n",
        "\n",
        "\n"
      ]
    }
  ]
}