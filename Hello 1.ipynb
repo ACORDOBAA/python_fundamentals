{
  "cells": [
    {
      "cell_type": "code",
      "source": [
        "print(\"Mi nombre es Agustin Cordoba\")\r\n",
        "print(\"El éxito consiste en ir de fracaso en fracaso sin perder el entusiasmo\")\r\n",
        "\r\n"
      ],
      "outputs": [
        {
          "output_type": "display_data",
          "data": {
            "application/vnd.livy.statement-meta+json": {
              "spark_pool": "SPK00",
              "session_id": "0",
              "statement_id": 4,
              "state": "finished",
              "livy_statement_state": "available",
              "queued_time": "2023-07-13T16:52:46.7638588Z",
              "session_start_time": null,
              "execution_start_time": "2023-07-13T16:52:46.9235629Z",
              "execution_finish_time": "2023-07-13T16:52:47.0837724Z",
              "spark_jobs": null,
              "parent_msg_id": "325e439e-daf4-48dc-98ad-4cf1ab1edc8e"
            },
            "text/plain": "StatementMeta(SPK00, 0, 4, Finished, Available)"
          },
          "metadata": {}
        },
        {
          "output_type": "stream",
          "name": "stdout",
          "text": [
            "Mi nombre es Agustin Cordoba\nEl éxito consiste en ir de fracaso en fracaso sin perder el entusiasmo\n"
          ]
        }
      ],
      "execution_count": 4,
      "metadata": {}
    }
  ],
  "metadata": {
    "language_info": {
      "name": "python"
    },
    "kernelspec": {
      "name": "synapse_pyspark",
      "language": "Python",
      "display_name": "Synapse PySpark"
    },
    "kernel_info": {
      "name": "synapse_pyspark"
    },
    "save_output": true,
    "synapse_widget": {
      "version": "0.1",
      "state": {}
    }
  },
  "nbformat": 4,
  "nbformat_minor": 2
}