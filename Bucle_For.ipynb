{
  "nbformat": 4,
  "nbformat_minor": 0,
  "metadata": {
    "colab": {
      "provenance": [],
      "authorship_tag": "ABX9TyOHZWfsG7TP1OtqfopkwjEN",
      "include_colab_link": true
    },
    "kernelspec": {
      "name": "python3",
      "display_name": "Python 3"
    },
    "language_info": {
      "name": "python"
    }
  },
  "cells": [
    {
      "cell_type": "markdown",
      "metadata": {
        "id": "view-in-github",
        "colab_type": "text"
      },
      "source": [
        "<a href=\"https://colab.research.google.com/github/ACORDOBAA/python_fundamentals/blob/branch_8/Bucle_For.ipynb\" target=\"_parent\"><img src=\"https://colab.research.google.com/assets/colab-badge.svg\" alt=\"Open In Colab\"/></a>"
      ]
    },
    {
      "cell_type": "code",
      "execution_count": null,
      "metadata": {
        "colab": {
          "base_uri": "https://localhost:8080/"
        },
        "id": "hFDCM2EEzueJ",
        "outputId": "08b826f9-dee8-4073-bf9f-eef4f878379a"
      },
      "outputs": [
        {
          "output_type": "stream",
          "name": "stdout",
          "text": [
            "Nombre:Julian\n",
            "Número: 641\n",
            "Nombre:Gonzalo\n",
            "Número: 622\n",
            "Nombre:Ezequiel\n",
            "Número: 513\n",
            "Nombre:Celeste\n",
            "Número: 127\n",
            "Nombre:Clara\n",
            "Número: 175\n",
            "\n",
            "El valor más chico de todos es: 127\n",
            "El valor más grande de todos es: 641\n"
          ]
        }
      ],
      "source": [
        "import random\n",
        "\n",
        "r1 = random.randint(0, 1000)\n",
        "r2 = random.randint(0, 1000)\n",
        "r3 = random.randint(0, 1000)\n",
        "r4 = random.randint(0, 1000)\n",
        "r5 = random.randint(0, 1000)\n",
        "r6 = random.randint(0, 1000)\n",
        "\n",
        "diccionario_base = {\"Julian\": r6, \"Gonzalo\": r5,\"Ezequiel\": r4, \"Celeste\": r3, \"Clara\": r2}\n",
        "\n",
        "for i in diccionario_base:\n",
        "  nombre = i\n",
        "  print(f\"Nombre:{nombre}\")\n",
        "  numero = diccionario_base[i]\n",
        "  print(f\"Número: {numero}\")\n",
        "\n",
        "valores = diccionario_base.values()\n",
        "\n",
        "maximo = max(valores)\n",
        "minimo = min(valores)\n",
        "print(\"\")\n",
        "print(f\"El valor más chico de todos es: {minimo}\")\n",
        "print(f\"El valor más grande de todos es: {maximo}\")\n",
        "\n",
        "\n",
        "\n",
        "\n"
      ]
    }
  ]
}