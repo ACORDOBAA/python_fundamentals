{
  "cells": [
    {
      "cell_type": "code",
      "source": [
        "# Importar la librería\r\n",
        "\r\n",
        "import numpy as np\r\n",
        "\r\n",
        "matriz_ventas = np.array([[\"Pelotas de fútbol\",\"Camisetas\", \"Botines\", \"Gorras],\r\n",
        "                        []"
      ],
      "outputs": [
        {
          "output_type": "display_data",
          "data": {
            "application/vnd.livy.statement-meta+json": {
              "spark_pool": "SPKSmallCAPlab1",
              "session_id": "105",
              "statement_id": 2,
              "state": "finished",
              "livy_statement_state": "available",
              "queued_time": "2023-07-17T19:27:55.2008317Z",
              "session_start_time": "2023-07-17T19:27:55.2768271Z",
              "execution_start_time": "2023-07-17T19:28:45.1624766Z",
              "execution_finish_time": "2023-07-17T19:28:45.3420352Z",
              "spark_jobs": null,
              "parent_msg_id": "c0ae537f-eccb-49df-876e-4ff8664c43d6"
            },
            "text/plain": "StatementMeta(SPKSmallCAPlab1, 105, 2, Finished, Available)"
          },
          "metadata": {}
        },
        {
          "output_type": "error",
          "ename": "SyntaxError",
          "evalue": "EOL while scanning string literal (3867004865.py, line 5)",
          "traceback": [
            "\u001b[0;36m  File \u001b[0;32m\"/tmp/ipykernel_16733/3867004865.py\"\u001b[0;36m, line \u001b[0;32m5\u001b[0m\n\u001b[0;31m    matriz_ventas = np.array([[\"Pelotas de fútbol\",\"Camisetas\", \"Botines\", \"Gorras],\u001b[0m\n\u001b[0m                                                                                    ^\u001b[0m\n\u001b[0;31mSyntaxError\u001b[0m\u001b[0;31m:\u001b[0m EOL while scanning string literal\n"
          ]
        }
      ],
      "execution_count": 6,
      "metadata": {}
    }
  ],
  "metadata": {
    "language_info": {
      "name": "python"
    },
    "kernelspec": {
      "name": "synapse_pyspark",
      "language": "Python",
      "display_name": "Synapse PySpark"
    },
    "kernel_info": {
      "name": "synapse_pyspark"
    },
    "save_output": true,
    "synapse_widget": {
      "version": "0.1",
      "state": {}
    }
  },
  "nbformat": 4,
  "nbformat_minor": 2
}