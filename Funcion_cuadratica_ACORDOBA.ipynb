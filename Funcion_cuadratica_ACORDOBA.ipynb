{
  "nbformat": 4,
  "nbformat_minor": 0,
  "metadata": {
    "colab": {
      "provenance": [],
      "authorship_tag": "ABX9TyOMVoYu11RQyShErAm0VKfU",
      "include_colab_link": true
    },
    "kernelspec": {
      "name": "python3",
      "display_name": "Python 3"
    },
    "language_info": {
      "name": "python"
    }
  },
  "cells": [
    {
      "cell_type": "markdown",
      "metadata": {
        "id": "view-in-github",
        "colab_type": "text"
      },
      "source": [
        "<a href=\"https://colab.research.google.com/github/ACORDOBAA/python_fundamentals/blob/branch_8/Funcion_cuadratica_ACORDOBA.ipynb\" target=\"_parent\"><img src=\"https://colab.research.google.com/assets/colab-badge.svg\" alt=\"Open In Colab\"/></a>"
      ]
    },
    {
      "cell_type": "code",
      "execution_count": 15,
      "metadata": {
        "id": "VUpiJDRLc4Pz",
        "colab": {
          "base_uri": "https://localhost:8080/"
        },
        "outputId": "6165d5fa-febd-4dfa-b7d9-11dcd68af88c"
      },
      "outputs": [
        {
          "output_type": "stream",
          "name": "stdout",
          "text": [
            "Primer Caso con a=1, b=-8 y c=16\n",
            " \n",
            "El valor de x1 es 8.0\n",
            "El valor de x2 es 8.0\n",
            " \n",
            "Segundo  Caso con a=1, b=2 y c=5\n",
            " \n",
            "La respuesta cuenta con un valor imaginario\n",
            "False False\n"
          ]
        }
      ],
      "source": [
        "\n",
        "\n",
        "def cuadratica (a, b, c):\n",
        "    discriminante = b **2 - 4*a*c\n",
        "    return 0\n",
        "\n",
        "def cuadratica(a, b, c):\n",
        "    discriminante = b ** 2 - 4*a*c\n",
        "\n",
        "    if discriminante < 0:\n",
        "      print(\"La respuesta cuenta con un valor imaginario\")\n",
        "      return False, False\n",
        "    else:\n",
        "      x1 = (-b + discriminante ** 0.5 / (2*a))\n",
        "      x2 = (-b + discriminante ** 0.5 / (2*a))\n",
        "      return x1, x2\n",
        "\n",
        "# Prueba 1\n",
        "print(\"Primer Caso con a=1, b=-8 y c=16\")\n",
        "print(\" \")\n",
        "x1, x2 = cuadratica(1, -8, 16)\n",
        "print(\"El valor de x1 es\", x1)\n",
        "print(\"El valor de x2 es\", x2)\n",
        "\n",
        "print(\" \")\n",
        "print(\"Segundo  Caso con a=1, b=2 y c=5\")\n",
        "print(\" \")\n",
        "x1, x2 = cuadratica (1, 2, 5)\n",
        "print(x1, x2)\n"
      ]
    }
  ]
}