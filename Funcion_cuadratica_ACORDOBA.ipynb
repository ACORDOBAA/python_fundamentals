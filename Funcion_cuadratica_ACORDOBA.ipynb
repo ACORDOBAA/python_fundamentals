{
  "nbformat": 4,
  "nbformat_minor": 0,
  "metadata": {
    "colab": {
      "provenance": [],
      "authorship_tag": "ABX9TyOYXI4Y4UWFay1DgEa/9BA/",
      "include_colab_link": true
    },
    "kernelspec": {
      "name": "python3",
      "display_name": "Python 3"
    },
    "language_info": {
      "name": "python"
    }
  },
  "cells": [
    {
      "cell_type": "markdown",
      "metadata": {
        "id": "view-in-github",
        "colab_type": "text"
      },
      "source": [
        "<a href=\"https://colab.research.google.com/github/ACORDOBAA/python_fundamentals/blob/branch_8/Funcion_cuadratica_ACORDOBA.ipynb\" target=\"_parent\"><img src=\"https://colab.research.google.com/assets/colab-badge.svg\" alt=\"Open In Colab\"/></a>"
      ]
    },
    {
      "cell_type": "code",
      "execution_count": 12,
      "metadata": {
        "id": "VUpiJDRLc4Pz",
        "colab": {
          "base_uri": "https://localhost:8080/"
        },
        "outputId": "4ec5433c-5de0-4f90-c86b-87e46d9c7932"
      },
      "outputs": [
        {
          "output_type": "stream",
          "name": "stdout",
          "text": [
            "8.0 8.0\n"
          ]
        }
      ],
      "source": [
        "\n",
        "\n",
        "def cuadratica (a, b, c):\n",
        "    discriminante = b **2 - 4*a*c\n",
        "    return 0\n",
        "\n",
        "def cuadratica(a, b, c):\n",
        "    discriminante = b ** 2 - 4*a*c\n",
        "\n",
        "    if discriminante < 0:\n",
        "      print(\"La respuesta cuenta con un valor imaginario\")\n",
        "      return False, False\n",
        "    else:\n",
        "      x1 = (-b + discriminante ** 0.5 / (2*a))\n",
        "      x2 = (-b + discriminante ** 0.5 / (2*a))\n",
        "      return x1, x2\n",
        "\n",
        "# Prueba\n",
        "\n",
        "x1, x2 = cuadratica(1, -8, 16)\n",
        "print(x1, x2)\n",
        "\n",
        "#x1, x2 = cuadratica (1, 2, 3)\n",
        "#print(x1, x2)\n"
      ]
    }
  ]
}